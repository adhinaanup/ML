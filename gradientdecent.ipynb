{
 "cells": [
  {
   "cell_type": "code",
   "execution_count": 1,
   "id": "26c1384a-0c4d-4d67-9b51-6567b4e26a58",
   "metadata": {},
   "outputs": [],
   "source": [
    "import pandas as pd"
   ]
  },
  {
   "cell_type": "code",
   "execution_count": 3,
   "id": "f7307d69-b54a-49e3-95a1-a42cfe8e2aaa",
   "metadata": {},
   "outputs": [],
   "source": [
    "import numpy as np"
   ]
  },
  {
   "cell_type": "code",
   "execution_count": 5,
   "id": "c3316c0f-9071-4581-894c-333fb1959d96",
   "metadata": {},
   "outputs": [],
   "source": [
    "x=np.array([1,2,3,4,5])\n",
    "y=np.array([5,7,9,11,13])"
   ]
  },
  {
   "cell_type": "code",
   "execution_count": 53,
   "id": "2a47ae95-5525-4825-bfd2-37e11dad9e52",
   "metadata": {},
   "outputs": [],
   "source": [
    "def gd(x,y):\n",
    "    m=0\n",
    "    b=0\n",
    "    lr=0.6\n",
    "    n=len(x)\n",
    "    for i in range(10):\n",
    "        yp=m*x+b\n",
    "        dm=(-2/n)*sum(x*(y-yp))\n",
    "        db=(-2/n)*sum((y-yp))\n",
    "        cost=(1/n)*sum((y-yp)**2)\n",
    "        m=m-lr*dm\n",
    "        b=b-lr*db\n",
    "        print('m : ',m,'b : ',cost)"
   ]
  },
  {
   "cell_type": "code",
   "execution_count": 55,
   "id": "3b978e74-93c9-4452-afc0-19415ed63856",
   "metadata": {},
   "outputs": [
    {
     "name": "stdout",
     "output_type": "stream",
     "text": [
      "m :  37.199999999999996 b :  89.0\n",
      "m :  -455.52000000000004 b :  15337.639999999998\n",
      "m :  6045.552000000001 b :  2671169.8064000006\n",
      "m :  -79751.15520000001 b :  465223059.40486413\n",
      "m :  1052519.2915200002 b :  81025371353.02803\n",
      "m :  -13890215.607552003 b :  14111748490435.744\n",
      "m :  183311182.24043527 b :  2457766525870380.0\n",
      "m :  -2419183722.212845 b :  4.2805583587200666e+17\n",
      "m :  31926311798.368656 b :  7.455215810590209e+19\n",
      "m :  -421336079051.69055 b :  1.29843441263334e+22\n"
     ]
    }
   ],
   "source": [
    "gd(x,y)"
   ]
  },
  {
   "cell_type": "code",
   "execution_count": null,
   "id": "333c9956-fd9b-4a0b-8cb5-deca46b4aeba",
   "metadata": {},
   "outputs": [],
   "source": []
  }
 ],
 "metadata": {
  "kernelspec": {
   "display_name": "Python [conda env:base] *",
   "language": "python",
   "name": "conda-base-py"
  },
  "language_info": {
   "codemirror_mode": {
    "name": "ipython",
    "version": 3
   },
   "file_extension": ".py",
   "mimetype": "text/x-python",
   "name": "python",
   "nbconvert_exporter": "python",
   "pygments_lexer": "ipython3",
   "version": "3.12.7"
  }
 },
 "nbformat": 4,
 "nbformat_minor": 5
}
